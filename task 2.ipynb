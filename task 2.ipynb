{
 "cells": [
  {
   "cell_type": "code",
   "execution_count": 7,
   "metadata": {},
   "outputs": [
    {
     "name": "stdout",
     "output_type": "stream",
     "text": [
      "soal nomor 3\n"
     ]
    },
    {
     "data": {
      "image/png": "[encoded data removed]",
      "text/latex": [
       "$\\displaystyle \\frac{d}{d z} \\left(4 z^{7} + 9 z - \\frac{3}{z^{7}}\\right)$"
      ],
      "text/plain": [
       "d ⎛   7         3 ⎞\n",
       "──⎜4⋅z  + 9⋅z - ──⎟\n",
       "dz⎜              7⎟\n",
       "  ⎝             z ⎠"
      ]
     },
     "execution_count": 7,
     "metadata": {},
     "output_type": "execute_result"
    }
   ],
   "source": [
    "import sympy as sym\n",
    "sym.init_printing()\n",
    "z = sym.Symbol(\"z\")\n",
    "print(\"soal nomor 3\")\n",
    "y=  4*z**7-3*z**-7+9*z\n",
    "sym.Derivative(y)"
   ]
  },
  {
   "cell_type": "code",
   "execution_count": 4,
   "metadata": {},
   "outputs": [
    {
     "name": "stdout",
     "output_type": "stream",
     "text": [
      "penyelesaian: \n"
     ]
    },
    {
     "data": {
      "image/png": "[encoded data removed]",
      "text/latex": [
       "$\\displaystyle 28 z^{6} + 9 + \\frac{21}{z^{8}}$"
      ],
      "text/plain": [
       "    6       21\n",
       "28⋅z  + 9 + ──\n",
       "             8\n",
       "            z "
      ]
     },
     "execution_count": 4,
     "metadata": {},
     "output_type": "execute_result"
    }
   ],
   "source": [
    "print(\"penyelesaian: \")\n",
    "\n",
    "sym.Derivative(y).doit()"
   ]
  },
  {
   "cell_type": "code",
   "execution_count": 11,
   "metadata": {},
   "outputs": [
    {
     "name": "stdout",
     "output_type": "stream",
     "text": [
      "soal nomor 8\n"
     ]
    },
    {
     "data": {
      "image/png": "[encoded data removed]",
      "text/latex": [
       "$\\displaystyle \\frac{d}{d z} \\left(\\frac{6}{\\sqrt{z^{3}}} + \\frac{1}{8 z^{4}} - \\frac{1}{3 z^{10}}\\right)$"
      ],
      "text/plain": [
       "d ⎛   6       1       1  ⎞\n",
       "──⎜─────── + ──── - ─────⎟\n",
       "dz⎜   ____      4      10⎟\n",
       "  ⎜  ╱  3    8⋅z    3⋅z  ⎟\n",
       "  ⎝╲╱  z                 ⎠"
      ]
     },
     "execution_count": 11,
     "metadata": {},
     "output_type": "execute_result"
    }
   ],
   "source": [
    "print(\"soal nomor 8\")\n",
    "R = 6/(sym.sqrt(z**3))+1/(8*z**4)-1/(3*z**10)\n",
    "sym.Derivative(R)"
   ]
  },
  {
   "cell_type": "code",
   "execution_count": 12,
   "metadata": {},
   "outputs": [
    {
     "name": "stdout",
     "output_type": "stream",
     "text": [
      "penyelesaian: \n"
     ]
    },
    {
     "data": {
      "image/png": "[encoded data removed]",
      "text/latex": [
       "$\\displaystyle - \\frac{9}{z \\sqrt{z^{3}}} - \\frac{1}{2 z^{5}} + \\frac{10}{3 z^{11}}$"
      ],
      "text/plain": [
       "      9        1       10 \n",
       "- ───────── - ──── + ─────\n",
       "       ____      5      11\n",
       "      ╱  3    2⋅z    3⋅z  \n",
       "  z⋅╲╱  z                 "
      ]
     },
     "execution_count": 12,
     "metadata": {},
     "output_type": "execute_result"
    }
   ],
   "source": [
    "print(\"penyelesaian: \")\n",
    "sym.Derivative(R).doit()"
   ]
  },
  {
   "cell_type": "code",
   "execution_count": 48,
   "metadata": {},
   "outputs": [
    {
     "name": "stdout",
     "output_type": "stream",
     "text": [
      "soal nomor 13\n"
     ]
    },
    {
     "data": {
      "image/png": "[encoded data removed]",
      "text/latex": [
       "$\\displaystyle \\frac{d}{d x} \\left(x^{3} + 9 x^{2} - 48 x + 2\\right)$"
      ],
      "text/plain": [
       "d ⎛ 3      2           ⎞\n",
       "──⎝x  + 9⋅x  - 48⋅x + 2⎠\n",
       "dx                      "
      ]
     },
     "execution_count": 48,
     "metadata": {},
     "output_type": "execute_result"
    }
   ],
   "source": [
    "print(\"soal nomor 13\")\n",
    "x = sym.Symbol(\"x\")\n",
    "y = x**3+9*x**2-48*x+2\n",
    "sym.Derivative(y)"
   ]
  },
  {
   "cell_type": "code",
   "execution_count": 49,
   "metadata": {},
   "outputs": [
    {
     "name": "stdout",
     "output_type": "stream",
     "text": [
      "penyelesaian: \n"
     ]
    },
    {
     "data": {
      "image/png": "[encoded data removed]",
      "text/latex": [
       "$\\displaystyle 3 x^{2} + 18 x - 48$"
      ],
      "text/plain": [
       "   2            \n",
       "3⋅x  + 18⋅x - 48"
      ]
     },
     "execution_count": 49,
     "metadata": {},
     "output_type": "execute_result"
    }
   ],
   "source": [
    "print(\"penyelesaian: \")\n",
    "sym.Derivative(y).doit()"
   ]
  },
  {
   "cell_type": "code",
   "execution_count": 50,
   "metadata": {},
   "outputs": [
    {
     "name": "stdout",
     "output_type": "stream",
     "text": [
      "soal nomor 18\n"
     ]
    },
    {
     "data": {
      "image/png": "[encoded data removed]",
      "text/latex": [
       "$\\displaystyle \\frac{d}{d z} \\left(- 4 z^{5} - 5 z^{4} + 40 z^{3} + 6\\right)$"
      ],
      "text/plain": [
       "d ⎛     5      4       3    ⎞\n",
       "──⎝- 4⋅z  - 5⋅z  + 40⋅z  + 6⎠\n",
       "dz                           "
      ]
     },
     "execution_count": 50,
     "metadata": {},
     "output_type": "execute_result"
    }
   ],
   "source": [
    "print(\"soal nomor 18\")\n",
    "h = 6+40*z**3-5*z**4-4*z**5\n",
    "sym.Derivative(h)"
   ]
  },
  {
   "cell_type": "code",
   "execution_count": 52,
   "metadata": {},
   "outputs": [
    {
     "name": "stdout",
     "output_type": "stream",
     "text": [
      "penyelesaian: \n"
     ]
    },
    {
     "data": {
      "image/png": "[encoded data removed]",
      "text/latex": [
       "$\\displaystyle - 20 z^{4} - 20 z^{3} + 120 z^{2}$"
      ],
      "text/plain": [
       "      4       3        2\n",
       "- 20⋅z  - 20⋅z  + 120⋅z "
      ]
     },
     "execution_count": 52,
     "metadata": {},
     "output_type": "execute_result"
    }
   ],
   "source": [
    "print(\"penyelesaian: \")\n",
    "sym.Derivative(h).doit()"
   ]
  },
  {
   "cell_type": "code",
   "execution_count": null,
   "metadata": {},
   "outputs": [],
   "source": []
  }
 ],
 "metadata": {
  "kernelspec": {
   "display_name": "Python 3",
   "language": "python",
   "name": "python3"
  },
  "language_info": {
   "codemirror_mode": {
    "name": "ipython",
    "version": 3
   },
   "file_extension": ".py",
   "mimetype": "text/x-python",
   "name": "python",
   "nbconvert_exporter": "python",
   "pygments_lexer": "ipython3",
   "version": "3.7.3"
  }
 },
 "nbformat": 4,
 "nbformat_minor": 2
}
