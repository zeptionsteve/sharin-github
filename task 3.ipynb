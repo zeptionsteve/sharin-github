{
 "cells": [
  {
   "cell_type": "code",
   "execution_count": 1,
   "metadata": {},
   "outputs": [],
   "source": [
    "import sympy as sym\n",
    "from sympy import *\n",
    "sym.init_printing()\n",
    "x , t = sym.symbols('x t')"
   ]
  },
  {
   "cell_type": "code",
   "execution_count": 6,
   "metadata": {},
   "outputs": [
    {
     "name": "stdout",
     "output_type": "stream",
     "text": [
      "soal nomor 3: \n"
     ]
    },
    {
     "data": {
      "image/png": "[encoded data removed]",
      "text/latex": [
       "$\\displaystyle \\int \\left(4 t^{4} + \\frac{10}{t^{3}} + \\frac{12}{t^{9}}\\right)\\, dt$"
      ],
      "text/plain": [
       "⌠                    \n",
       "⎮ ⎛   4   10   12⎞   \n",
       "⎮ ⎜4⋅t  + ── + ──⎟ dt\n",
       "⎮ ⎜        3    9⎟   \n",
       "⎮ ⎝       t    t ⎠   \n",
       "⌡                    "
      ]
     },
     "execution_count": 6,
     "metadata": {},
     "output_type": "execute_result"
    }
   ],
   "source": [
    "print('soal nomor 3: ')\n",
    "sym.Integral (10*t**-3+12*t**-9+4*t**3*t)"
   ]
  },
  {
   "cell_type": "code",
   "execution_count": 7,
   "metadata": {},
   "outputs": [
    {
     "name": "stdout",
     "output_type": "stream",
     "text": [
      "penyelesaian: \n"
     ]
    },
    {
     "data": {
      "image/png": "[encoded data removed]",
      "text/latex": [
       "$\\displaystyle \\frac{4 t^{5}}{5} - \\frac{10 t^{6} + 3}{2 t^{8}}$"
      ],
      "text/plain": [
       "   5       6    \n",
       "4⋅t    10⋅t  + 3\n",
       "──── - ─────────\n",
       " 5           8  \n",
       "          2⋅t   "
      ]
     },
     "execution_count": 7,
     "metadata": {},
     "output_type": "execute_result"
    }
   ],
   "source": [
    "print('penyelesaian: ')\n",
    "sym.integrate (10*t**-3+12*t**-9+4*t**3*t)"
   ]
  },
  {
   "cell_type": "code",
   "execution_count": 24,
   "metadata": {},
   "outputs": [
    {
     "name": "stdout",
     "output_type": "stream",
     "text": [
      "soal nomor 8: \n"
     ]
    },
    {
     "data": {
      "image/png": "[encoded data removed]",
      "text/latex": [
       "$\\displaystyle \\int \\left(- 0.125 x^{4} + 2 + \\frac{4}{x^{2}}\\right)\\, dx$"
      ],
      "text/plain": [
       "⌠                         \n",
       "⎮ ⎛         4       4 ⎞   \n",
       "⎮ ⎜- 0.125⋅x  + 2 + ──⎟ dx\n",
       "⎮ ⎜                  2⎟   \n",
       "⎮ ⎝                 x ⎠   \n",
       "⌡                         "
      ]
     },
     "execution_count": 24,
     "metadata": {},
     "output_type": "execute_result"
    }
   ],
   "source": [
    "print ('soal nomor 8: ')\n",
    "sym.Integral (4*x**-2+2-1/8*x**3*x)"
   ]
  },
  {
   "cell_type": "code",
   "execution_count": 25,
   "metadata": {},
   "outputs": [
    {
     "name": "stdout",
     "output_type": "stream",
     "text": [
      "penyelesaian: \n"
     ]
    },
    {
     "data": {
      "image/png": "[encoded data removed]",
      "text/latex": [
       "$\\displaystyle - 0.025 x^{5} + 2.0 x - \\frac{4.0}{x}$"
      ],
      "text/plain": [
       "         5           4.0\n",
       "- 0.025⋅x  + 2.0⋅x - ───\n",
       "                      x "
      ]
     },
     "execution_count": 25,
     "metadata": {},
     "output_type": "execute_result"
    }
   ],
   "source": [
    "print ('penyelesaian: ')\n",
    "sym.integrate (4*x**-2+2-1/8*x**3*x)"
   ]
  },
  {
   "cell_type": "code",
   "execution_count": 26,
   "metadata": {},
   "outputs": [
    {
     "name": "stdout",
     "output_type": "stream",
     "text": [
      "soal nomor 13: \n"
     ]
    },
    {
     "ename": "AttributeError",
     "evalue": "module 'sympy' has no attribute 'sqrt3'",
     "output_type": "error",
     "traceback": [
      "\u001b[1;31m---------------------------------------------------------------------------\u001b[0m",
      "\u001b[1;31mAttributeError\u001b[0m                            Traceback (most recent call last)",
      "\u001b[1;32m<ipython-input-26-d296284630b7>\u001b[0m in \u001b[0;36m<module>\u001b[1;34m\u001b[0m\n\u001b[0;32m      1\u001b[0m \u001b[0mprint\u001b[0m\u001b[1;33m(\u001b[0m\u001b[1;34m'soal nomor 13: '\u001b[0m\u001b[1;33m)\u001b[0m\u001b[1;33m\u001b[0m\u001b[1;33m\u001b[0m\u001b[0m\n\u001b[1;32m----> 2\u001b[1;33m \u001b[0msym\u001b[0m\u001b[1;33m.\u001b[0m\u001b[0mIntegral\u001b[0m \u001b[1;33m(\u001b[0m\u001b[1;33m(\u001b[0m\u001b[0mx\u001b[0m\u001b[1;33m**\u001b[0m\u001b[1;36m4\u001b[0m\u001b[1;33m-\u001b[0m\u001b[0msym\u001b[0m\u001b[1;33m.\u001b[0m\u001b[0msqrt3\u001b[0m\u001b[1;33m(\u001b[0m\u001b[0mx\u001b[0m\u001b[1;33m)\u001b[0m\u001b[1;33m)\u001b[0m\u001b[1;33m/\u001b[0m\u001b[1;33m(\u001b[0m\u001b[0msym\u001b[0m\u001b[1;33m.\u001b[0m\u001b[0msqrt\u001b[0m\u001b[1;33m(\u001b[0m\u001b[1;36m6\u001b[0m\u001b[1;33m)\u001b[0m\u001b[1;33m)\u001b[0m\u001b[1;33m)\u001b[0m\u001b[1;33m\u001b[0m\u001b[1;33m\u001b[0m\u001b[0m\n\u001b[0m",
      "\u001b[1;31mAttributeError\u001b[0m: module 'sympy' has no attribute 'sqrt3'"
     ]
    }
   ],
   "source": [
    "print('soal nomor 13: ')\n",
    "sym.Integral ((x**4-sym.sqrt3(x))/(sym.sqrt(6)))"
   ]
  },
  {
   "cell_type": "code",
   "execution_count": null,
   "metadata": {},
   "outputs": [],
   "source": []
  }
 ],
 "metadata": {
  "kernelspec": {
   "display_name": "Python 3",
   "language": "python",
   "name": "python3"
  },
  "language_info": {
   "codemirror_mode": {
    "name": "ipython",
    "version": 3
   },
   "file_extension": ".py",
   "mimetype": "text/x-python",
   "name": "python",
   "nbconvert_exporter": "python",
   "pygments_lexer": "ipython3",
   "version": "3.7.3"
  }
 },
 "nbformat": 4,
 "nbformat_minor": 2
}
