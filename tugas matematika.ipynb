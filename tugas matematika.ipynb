{
 "cells": [
  {
   "cell_type": "code",
   "execution_count": 4,
   "metadata": {},
   "outputs": [
    {
     "name": "stdout",
     "output_type": "stream",
     "text": [
      "Steve E. Pansing 19021106051\n",
      "TUTORIAL\n"
     ]
    }
   ],
   "source": [
    "print(\"Steve E. Pansing 19021106051\")\n",
    "print(\"TUTORIAL\")"
   ]
  },
  {
   "cell_type": "code",
   "execution_count": 1,
   "metadata": {},
   "outputs": [
    {
     "name": "stdout",
     "output_type": "stream",
     "text": [
      "awalnya kita harus memasukkan perintah untuk program agar bisa membaca modul yang akan dibuat nanti. perintah yang kita  masukkan dibawah adalah sympy atau phyton simbol untuk matematika.\n"
     ]
    }
   ],
   "source": [
    "print(\"awalnya kita harus memasukkan perintah untuk program agar bisa membaca modul yang akan dibuat nanti. perintah yang kita  masukkan dibawah adalah sympy atau phyton simbol untuk matematika.\")"
   ]
  },
  {
   "cell_type": "code",
   "execution_count": 2,
   "metadata": {},
   "outputs": [],
   "source": [
    "import sympy\n",
    "from sympy import limit\n",
    "from sympy.abc import x"
   ]
  },
  {
   "cell_type": "code",
   "execution_count": 5,
   "metadata": {},
   "outputs": [
    {
     "name": "stdout",
     "output_type": "stream",
     "text": [
      "Masukkan soal yang diberikan, matematika limit harus menambahkan kode limit agar bisa dibaca system.\n"
     ]
    }
   ],
   "source": [
    "print(\"Masukkan soal yang diberikan, matematika limit harus menambahkan kode limit agar bisa dibaca system.\")"
   ]
  },
  {
   "cell_type": "code",
   "execution_count": 22,
   "metadata": {},
   "outputs": [
    {
     "name": "stdout",
     "output_type": "stream",
     "text": [
      "soal 1\n"
     ]
    },
    {
     "data": {
      "text/latex": [
       "$\\displaystyle 2$"
      ],
      "text/plain": [
       "2"
      ]
     },
     "execution_count": 22,
     "metadata": {},
     "output_type": "execute_result"
    }
   ],
   "source": [
    "print(\"soal 1\")\n",
    "limit((3*x**2-14*x+8)/(x**2-3*x-4),x,4)"
   ]
  },
  {
   "cell_type": "code",
   "execution_count": null,
   "metadata": {},
   "outputs": [],
   "source": []
  },
  {
   "cell_type": "code",
   "execution_count": null,
   "metadata": {},
   "outputs": [],
   "source": []
  },
  {
   "cell_type": "code",
   "execution_count": null,
   "metadata": {},
   "outputs": [],
   "source": []
  },
  {
   "cell_type": "code",
   "execution_count": 23,
   "metadata": {},
   "outputs": [
    {
     "name": "stdout",
     "output_type": "stream",
     "text": [
      "tugas ke-2 menggunakan function sym.init_printing untuk mendapatkan hasil printing yang paling baik.\n"
     ]
    }
   ],
   "source": [
    "print(\"tugas ke-2 menggunakan function sym.init_printing untuk mendapatkan hasil printing yang paling baik.\")"
   ]
  },
  {
   "cell_type": "code",
   "execution_count": 24,
   "metadata": {},
   "outputs": [
    {
     "name": "stdout",
     "output_type": "stream",
     "text": [
      "soal nomor 3\n"
     ]
    },
    {
     "data": {
      "text/latex": [
       "$\\displaystyle \\frac{d}{d z} \\left(4 z^{7} + 9 z - \\frac{3}{z^{7}}\\right)$"
      ],
      "text/plain": [
       "d ⎛   7         3 ⎞\n",
       "──⎜4⋅z  + 9⋅z - ──⎟\n",
       "dz⎜              7⎟\n",
       "  ⎝             z ⎠"
      ]
     },
     "execution_count": 24,
     "metadata": {},
     "output_type": "execute_result"
    }
   ],
   "source": [
    "import sympy as sym\n",
    "sym.init_printing()\n",
    "z = sym.Symbol(\"z\")\n",
    "print(\"soal nomor 3\")\n",
    "y=  4*z**7-3*z**-7+9*z\n",
    "sym.Derivative(y)"
   ]
  },
  {
   "cell_type": "code",
   "execution_count": 25,
   "metadata": {},
   "outputs": [
    {
     "name": "stdout",
     "output_type": "stream",
     "text": [
      "penyelesaian: \n"
     ]
    },
    {
     "data": {
      "text/latex": [
       "$\\displaystyle 28 z^{6} + 9 + \\frac{21}{z^{8}}$"
      ],
      "text/plain": [
       "    6       21\n",
       "28⋅z  + 9 + ──\n",
       "             8\n",
       "            z "
      ]
     },
     "execution_count": 25,
     "metadata": {},
     "output_type": "execute_result"
    }
   ],
   "source": [
    "print(\"penyelesaian: \")\n",
    "\n",
    "sym.Derivative(y).doit()"
   ]
  },
  {
   "cell_type": "code",
   "execution_count": 26,
   "metadata": {},
   "outputs": [
    {
     "name": "stdout",
     "output_type": "stream",
     "text": [
      "soal nomor 8\n"
     ]
    },
    {
     "data": {
      "text/latex": [
       "$\\displaystyle \\frac{d}{d z} \\left(\\frac{6}{\\sqrt{z^{3}}} + \\frac{1}{8 z^{4}} - \\frac{1}{3 z^{10}}\\right)$"
      ],
      "text/plain": [
       "d ⎛   6       1       1  ⎞\n",
       "──⎜─────── + ──── - ─────⎟\n",
       "dz⎜   ____      4      10⎟\n",
       "  ⎜  ╱  3    8⋅z    3⋅z  ⎟\n",
       "  ⎝╲╱  z                 ⎠"
      ]
     },
     "execution_count": 26,
     "metadata": {},
     "output_type": "execute_result"
    }
   ],
   "source": [
    "print(\"soal nomor 8\")\n",
    "R = 6/(sym.sqrt(z**3))+1/(8*z**4)-1/(3*z**10)\n",
    "sym.Derivative(R)"
   ]
  },
  {
   "cell_type": "code",
   "execution_count": 27,
   "metadata": {},
   "outputs": [
    {
     "name": "stdout",
     "output_type": "stream",
     "text": [
      "penyelesaian: \n"
     ]
    },
    {
     "data": {
      "text/latex": [
       "$\\displaystyle - \\frac{9}{z \\sqrt{z^{3}}} - \\frac{1}{2 z^{5}} + \\frac{10}{3 z^{11}}$"
      ],
      "text/plain": [
       "      9        1       10 \n",
       "- ───────── - ──── + ─────\n",
       "       ____      5      11\n",
       "      ╱  3    2⋅z    3⋅z  \n",
       "  z⋅╲╱  z                 "
      ]
     },
     "execution_count": 27,
     "metadata": {},
     "output_type": "execute_result"
    }
   ],
   "source": [
    "print(\"penyelesaian: \")\n",
    "sym.Derivative(R).doit()"
   ]
  },
  {
   "cell_type": "code",
   "execution_count": 28,
   "metadata": {},
   "outputs": [
    {
     "name": "stdout",
     "output_type": "stream",
     "text": [
      "soal nomor 13\n"
     ]
    },
    {
     "data": {
      "text/latex": [
       "$\\displaystyle \\frac{d}{d x} \\left(x^{3} + 9 x^{2} - 48 x + 2\\right)$"
      ],
      "text/plain": [
       "d ⎛ 3      2           ⎞\n",
       "──⎝x  + 9⋅x  - 48⋅x + 2⎠\n",
       "dx                      "
      ]
     },
     "execution_count": 28,
     "metadata": {},
     "output_type": "execute_result"
    }
   ],
   "source": [
    "print(\"soal nomor 13\")\n",
    "x = sym.Symbol(\"x\")\n",
    "y = x**3+9*x**2-48*x+2\n",
    "sym.Derivative(y)"
   ]
  },
  {
   "cell_type": "code",
   "execution_count": 29,
   "metadata": {},
   "outputs": [
    {
     "name": "stdout",
     "output_type": "stream",
     "text": [
      "penyelesaian: \n"
     ]
    },
    {
     "data": {
      "text/latex": [
       "$\\displaystyle 3 x^{2} + 18 x - 48$"
      ],
      "text/plain": [
       "   2            \n",
       "3⋅x  + 18⋅x - 48"
      ]
     },
     "execution_count": 29,
     "metadata": {},
     "output_type": "execute_result"
    }
   ],
   "source": [
    "print(\"penyelesaian: \")\n",
    "sym.Derivative(y).doit()"
   ]
  },
  {
   "cell_type": "code",
   "execution_count": 30,
   "metadata": {},
   "outputs": [
    {
     "name": "stdout",
     "output_type": "stream",
     "text": [
      "soal nomor 18\n"
     ]
    },
    {
     "data": {
      "text/latex": [
       "$\\displaystyle \\frac{d}{d z} \\left(- 4 z^{5} - 5 z^{4} + 40 z^{3} + 6\\right)$"
      ],
      "text/plain": [
       "d ⎛     5      4       3    ⎞\n",
       "──⎝- 4⋅z  - 5⋅z  + 40⋅z  + 6⎠\n",
       "dz                           "
      ]
     },
     "execution_count": 30,
     "metadata": {},
     "output_type": "execute_result"
    }
   ],
   "source": [
    "print(\"soal nomor 18\")\n",
    "h = 6+40*z**3-5*z**4-4*z**5\n",
    "sym.Derivative(h)"
   ]
  },
  {
   "cell_type": "code",
   "execution_count": 31,
   "metadata": {},
   "outputs": [
    {
     "name": "stdout",
     "output_type": "stream",
     "text": [
      "penyelesaian: \n"
     ]
    },
    {
     "data": {
      "text/latex": [
       "$\\displaystyle - 20 z^{4} - 20 z^{3} + 120 z^{2}$"
      ],
      "text/plain": [
       "      4       3        2\n",
       "- 20⋅z  - 20⋅z  + 120⋅z "
      ]
     },
     "execution_count": 31,
     "metadata": {},
     "output_type": "execute_result"
    }
   ],
   "source": [
    "print(\"penyelesaian: \")\n",
    "sym.Derivative(h).doit()"
   ]
  },
  {
   "cell_type": "code",
   "execution_count": 32,
   "metadata": {},
   "outputs": [
    {
     "name": "stdout",
     "output_type": "stream",
     "text": [
      "Untuk tugas ke-3 adalah tugas Integral maka menambahkan kode Integral\n"
     ]
    }
   ],
   "source": [
    "print(\"Untuk tugas ke-3 adalah tugas Integral maka menambahkan kode Integral\")"
   ]
  },
  {
   "cell_type": "code",
   "execution_count": 33,
   "metadata": {},
   "outputs": [],
   "source": [
    "import sympy as sym\n",
    "from sympy import *\n",
    "sym.init_printing()\n",
    "x , t = sym.symbols('x t')"
   ]
  },
  {
   "cell_type": "code",
   "execution_count": 34,
   "metadata": {},
   "outputs": [
    {
     "name": "stdout",
     "output_type": "stream",
     "text": [
      "soal nomor 3: \n"
     ]
    },
    {
     "data": {
      "text/latex": [
       "$\\displaystyle \\int \\left(4 t^{4} + \\frac{10}{t^{3}} + \\frac{12}{t^{9}}\\right)\\, dt$"
      ],
      "text/plain": [
       "⌠                    \n",
       "⎮ ⎛   4   10   12⎞   \n",
       "⎮ ⎜4⋅t  + ── + ──⎟ dt\n",
       "⎮ ⎜        3    9⎟   \n",
       "⎮ ⎝       t    t ⎠   \n",
       "⌡                    "
      ]
     },
     "execution_count": 34,
     "metadata": {},
     "output_type": "execute_result"
    }
   ],
   "source": [
    "print('soal nomor 3: ')\n",
    "sym.Integral (10*t**-3+12*t**-9+4*t**3*t)"
   ]
  },
  {
   "cell_type": "code",
   "execution_count": 35,
   "metadata": {},
   "outputs": [
    {
     "name": "stdout",
     "output_type": "stream",
     "text": [
      "penyelesaian: \n"
     ]
    },
    {
     "data": {
      "text/latex": [
       "$\\displaystyle \\frac{4 t^{5}}{5} - \\frac{10 t^{6} + 3}{2 t^{8}}$"
      ],
      "text/plain": [
       "   5       6    \n",
       "4⋅t    10⋅t  + 3\n",
       "──── - ─────────\n",
       " 5           8  \n",
       "          2⋅t   "
      ]
     },
     "execution_count": 35,
     "metadata": {},
     "output_type": "execute_result"
    }
   ],
   "source": [
    "print('penyelesaian: ')\n",
    "sym.integrate (10*t**-3+12*t**-9+4*t**3*t)"
   ]
  },
  {
   "cell_type": "code",
   "execution_count": 36,
   "metadata": {},
   "outputs": [
    {
     "name": "stdout",
     "output_type": "stream",
     "text": [
      "soal nomor 8: \n"
     ]
    },
    {
     "data": {
      "text/latex": [
       "$\\displaystyle \\int \\left(- 0.125 x^{4} + 2 + \\frac{4}{x^{2}}\\right)\\, dx$"
      ],
      "text/plain": [
       "⌠                         \n",
       "⎮ ⎛         4       4 ⎞   \n",
       "⎮ ⎜- 0.125⋅x  + 2 + ──⎟ dx\n",
       "⎮ ⎜                  2⎟   \n",
       "⎮ ⎝                 x ⎠   \n",
       "⌡                         "
      ]
     },
     "execution_count": 36,
     "metadata": {},
     "output_type": "execute_result"
    }
   ],
   "source": [
    "print ('soal nomor 8: ')\n",
    "sym.Integral (4*x**-2+2-1/8*x**3*x)"
   ]
  },
  {
   "cell_type": "code",
   "execution_count": 37,
   "metadata": {},
   "outputs": [
    {
     "name": "stdout",
     "output_type": "stream",
     "text": [
      "penyelesaian: \n"
     ]
    },
    {
     "data": {
      "text/latex": [
       "$\\displaystyle - 0.025 x^{5} + 2.0 x - \\frac{4.0}{x}$"
      ],
      "text/plain": [
       "         5           4.0\n",
       "- 0.025⋅x  + 2.0⋅x - ───\n",
       "                      x "
      ]
     },
     "execution_count": 37,
     "metadata": {},
     "output_type": "execute_result"
    }
   ],
   "source": [
    "print ('penyelesaian: ')\n",
    "sym.integrate (4*x**-2+2-1/8*x**3*x)"
   ]
  },
  {
   "cell_type": "code",
   "execution_count": null,
   "metadata": {},
   "outputs": [],
   "source": []
  },
  {
   "cell_type": "code",
   "execution_count": null,
   "metadata": {},
   "outputs": [],
   "source": []
  },
  {
   "cell_type": "code",
   "execution_count": null,
   "metadata": {},
   "outputs": [],
   "source": []
  },
  {
   "cell_type": "code",
   "execution_count": null,
   "metadata": {},
   "outputs": [],
   "source": []
  },
  {
   "cell_type": "code",
   "execution_count": null,
   "metadata": {},
   "outputs": [],
   "source": []
  }
 ],
 "metadata": {
  "kernelspec": {
   "display_name": "Python 3",
   "language": "python",
   "name": "python3"
  },
  "language_info": {
   "codemirror_mode": {
    "name": "ipython",
    "version": 3
   },
   "file_extension": ".py",
   "mimetype": "text/x-python",
   "name": "python",
   "nbconvert_exporter": "python",
   "pygments_lexer": "ipython3",
   "version": "3.7.4"
  }
 },
 "nbformat": 4,
 "nbformat_minor": 2
}
